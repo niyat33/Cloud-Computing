{
  "cells": [
    {
      "cell_type": "markdown",
      "metadata": {
        "id": "QGk2DcxpFQHO"
      },
      "source": [
        "### Import libraries"
      ]
    },
    {
      "cell_type": "code",
      "execution_count": null,
      "metadata": {
        "id": "BSyNDkdFFQHS"
      },
      "outputs": [],
      "source": [
        "#https://grouplens.org/datasets/movielens/"
      ]
    },
    {
      "cell_type": "code",
      "execution_count": null,
      "metadata": {
        "colab": {
          "base_uri": "https://localhost:8080/"
        },
        "id": "m91GtzHbFQHT",
        "outputId": "fc8ae1e0-4364-425b-86ba-091a767fd8d9"
      },
      "outputs": [
        {
          "output_type": "stream",
          "name": "stdout",
          "text": [
            "Collecting pyspark\n",
            "  Downloading pyspark-3.5.1.tar.gz (317.0 MB)\n",
            "\u001b[2K     \u001b[90m━━━━━━━━━━━━━━━━━━━━━━━━━━━━━━━━━━━━━━━━\u001b[0m \u001b[32m317.0/317.0 MB\u001b[0m \u001b[31m2.6 MB/s\u001b[0m eta \u001b[36m0:00:00\u001b[0m\n",
            "\u001b[?25h  Preparing metadata (setup.py) ... \u001b[?25l\u001b[?25hdone\n",
            "Requirement already satisfied: py4j==0.10.9.7 in /usr/local/lib/python3.10/dist-packages (from pyspark) (0.10.9.7)\n",
            "Building wheels for collected packages: pyspark\n",
            "  Building wheel for pyspark (setup.py) ... \u001b[?25l\u001b[?25hdone\n",
            "  Created wheel for pyspark: filename=pyspark-3.5.1-py2.py3-none-any.whl size=317488491 sha256=4d6cc6b500e2da2ba8319690ccfdc49562588a77770029f653550e1c137aaecd\n",
            "  Stored in directory: /root/.cache/pip/wheels/80/1d/60/2c256ed38dddce2fdd93be545214a63e02fbd8d74fb0b7f3a6\n",
            "Successfully built pyspark\n",
            "Installing collected packages: pyspark\n",
            "Successfully installed pyspark-3.5.1\n"
          ]
        }
      ],
      "source": [
        "import pandas as pd\n",
        "!pip install pyspark\n",
        "from pyspark.sql.functions import col, explode\n",
        "from pyspark import SparkContext"
      ]
    },
    {
      "cell_type": "markdown",
      "metadata": {
        "id": "1ihMY22AFQHV"
      },
      "source": [
        "### Initiate spark session"
      ]
    },
    {
      "cell_type": "code",
      "execution_count": null,
      "metadata": {
        "id": "vYdC3T0IFQHX"
      },
      "outputs": [],
      "source": [
        "from pyspark.sql import SparkSession\n",
        "sc = SparkContext\n",
        "# sc.setCheckpointDir('checkpoint')\n",
        "spark = SparkSession.builder.appName('Recommendations').getOrCreate()"
      ]
    },
    {
      "cell_type": "markdown",
      "metadata": {
        "id": "upYHrsS3FQHY"
      },
      "source": [
        "# 1. Load data"
      ]
    },
    {
      "cell_type": "code",
      "execution_count": null,
      "metadata": {
        "id": "zIOvGZMGFQHa"
      },
      "outputs": [],
      "source": [
        "movies = spark.read.csv(\"movies.csv\",header=True)\n",
        "ratings = spark.read.csv(\"ratings.csv\",header=True)"
      ]
    },
    {
      "cell_type": "code",
      "execution_count": null,
      "metadata": {
        "colab": {
          "base_uri": "https://localhost:8080/"
        },
        "id": "_QmpO3FqFQHc",
        "outputId": "0a8b43b6-439f-4fc6-bc15-ac561c41b4b1"
      },
      "outputs": [
        {
          "output_type": "stream",
          "name": "stdout",
          "text": [
            "+------+-------+------+---------+\n",
            "|userId|movieId|rating|timestamp|\n",
            "+------+-------+------+---------+\n",
            "|     1|      1|   4.0|964982703|\n",
            "|     1|      3|   4.0|964981247|\n",
            "|     1|      6|   4.0|964982224|\n",
            "|     1|     47|   5.0|964983815|\n",
            "|     1|     50|   5.0|964982931|\n",
            "|     1|     70|   3.0|964982400|\n",
            "|     1|    101|   5.0|964980868|\n",
            "|     1|    110|   4.0|964982176|\n",
            "|     1|    151|   5.0|964984041|\n",
            "|     1|    157|   5.0|964984100|\n",
            "|     1|    163|   5.0|964983650|\n",
            "|     1|    216|   5.0|964981208|\n",
            "|     1|    223|   3.0|964980985|\n",
            "|     1|    231|   5.0|964981179|\n",
            "|     1|    235|   4.0|964980908|\n",
            "|     1|    260|   5.0|964981680|\n",
            "|     1|    296|   3.0|964982967|\n",
            "|     1|    316|   3.0|964982310|\n",
            "|     1|    333|   5.0|964981179|\n",
            "|     1|    349|   4.0|964982563|\n",
            "+------+-------+------+---------+\n",
            "only showing top 20 rows\n",
            "\n"
          ]
        }
      ],
      "source": [
        "ratings.show()"
      ]
    },
    {
      "cell_type": "code",
      "execution_count": null,
      "metadata": {
        "colab": {
          "base_uri": "https://localhost:8080/"
        },
        "id": "aRyXPSnuFQHf",
        "outputId": "75341288-60ee-4946-92c1-9a454f935fae"
      },
      "outputs": [
        {
          "output_type": "stream",
          "name": "stdout",
          "text": [
            "root\n",
            " |-- userId: string (nullable = true)\n",
            " |-- movieId: string (nullable = true)\n",
            " |-- rating: string (nullable = true)\n",
            " |-- timestamp: string (nullable = true)\n",
            "\n"
          ]
        }
      ],
      "source": [
        "ratings.printSchema()"
      ]
    },
    {
      "cell_type": "code",
      "execution_count": null,
      "metadata": {
        "colab": {
          "base_uri": "https://localhost:8080/"
        },
        "id": "cEbrsD4sFQHh",
        "outputId": "c396960e-1c05-45dc-b886-896039aa503e"
      },
      "outputs": [
        {
          "output_type": "stream",
          "name": "stdout",
          "text": [
            "+------+-------+------+\n",
            "|userId|movieId|rating|\n",
            "+------+-------+------+\n",
            "|     1|      1|   4.0|\n",
            "|     1|      3|   4.0|\n",
            "|     1|      6|   4.0|\n",
            "|     1|     47|   5.0|\n",
            "|     1|     50|   5.0|\n",
            "|     1|     70|   3.0|\n",
            "|     1|    101|   5.0|\n",
            "|     1|    110|   4.0|\n",
            "|     1|    151|   5.0|\n",
            "|     1|    157|   5.0|\n",
            "|     1|    163|   5.0|\n",
            "|     1|    216|   5.0|\n",
            "|     1|    223|   3.0|\n",
            "|     1|    231|   5.0|\n",
            "|     1|    235|   4.0|\n",
            "|     1|    260|   5.0|\n",
            "|     1|    296|   3.0|\n",
            "|     1|    316|   3.0|\n",
            "|     1|    333|   5.0|\n",
            "|     1|    349|   4.0|\n",
            "+------+-------+------+\n",
            "only showing top 20 rows\n",
            "\n"
          ]
        }
      ],
      "source": [
        "ratings = ratings.\\\n",
        "    withColumn('userId', col('userId').cast('integer')).\\\n",
        "    withColumn('movieId', col('movieId').cast('integer')).\\\n",
        "    withColumn('rating', col('rating').cast('float')).\\\n",
        "    drop('timestamp')\n",
        "ratings.show()"
      ]
    },
    {
      "cell_type": "markdown",
      "metadata": {
        "id": "1Q_CHEHoFQHi"
      },
      "source": [
        "## Calculate sparsity"
      ]
    },
    {
      "cell_type": "code",
      "execution_count": null,
      "metadata": {
        "colab": {
          "base_uri": "https://localhost:8080/"
        },
        "id": "7SpdkXIHFQHj",
        "outputId": "e5d405bb-a968-423f-b0cd-fd19f96f2ff4"
      },
      "outputs": [
        {
          "output_type": "stream",
          "name": "stdout",
          "text": [
            "The ratings dataframe is  98.30% empty.\n"
          ]
        }
      ],
      "source": [
        "# Count the total number of ratings in the dataset\n",
        "numerator = ratings.select(\"rating\").count()\n",
        "\n",
        "# Count the number of distinct userIds and distinct movieIds\n",
        "num_users = ratings.select(\"userId\").distinct().count()\n",
        "num_movies = ratings.select(\"movieId\").distinct().count()\n",
        "\n",
        "# Set the denominator equal to the number of users multiplied by the number of movies\n",
        "denominator = num_users * num_movies\n",
        "\n",
        "# Divide the numerator by the denominator\n",
        "sparsity = (1.0 - (numerator *1.0)/denominator)*100\n",
        "print(\"The ratings dataframe is \", \"%.2f\" % sparsity + \"% empty.\")"
      ]
    },
    {
      "cell_type": "markdown",
      "metadata": {
        "id": "URLGM67BFQHj"
      },
      "source": [
        "## Interpret ratings"
      ]
    },
    {
      "cell_type": "code",
      "execution_count": null,
      "metadata": {
        "colab": {
          "base_uri": "https://localhost:8080/"
        },
        "id": "6l9FjwBrFQHl",
        "outputId": "b2f6b76a-9fc2-4904-92d9-efed9b77c6f8"
      },
      "outputs": [
        {
          "output_type": "stream",
          "name": "stdout",
          "text": [
            "+------+-----+\n",
            "|userId|count|\n",
            "+------+-----+\n",
            "|   414| 2698|\n",
            "|   599| 2478|\n",
            "|   474| 2108|\n",
            "|   448| 1864|\n",
            "|   274| 1346|\n",
            "|   610| 1302|\n",
            "|    68| 1260|\n",
            "|   380| 1218|\n",
            "|   606| 1115|\n",
            "|   288| 1055|\n",
            "|   249| 1046|\n",
            "|   387| 1027|\n",
            "|   182|  977|\n",
            "|   307|  975|\n",
            "|   603|  943|\n",
            "|   298|  939|\n",
            "|   177|  904|\n",
            "|   318|  879|\n",
            "|   232|  862|\n",
            "|   480|  836|\n",
            "+------+-----+\n",
            "only showing top 20 rows\n",
            "\n"
          ]
        }
      ],
      "source": [
        "# Group data by userId, count ratings\n",
        "userId_ratings = ratings.groupBy(\"userId\").count().orderBy('count', ascending=False)\n",
        "userId_ratings.show()"
      ]
    },
    {
      "cell_type": "code",
      "execution_count": null,
      "metadata": {
        "colab": {
          "base_uri": "https://localhost:8080/"
        },
        "id": "IR7e41xjFQHl",
        "outputId": "37022ee6-012c-4b2a-9a1f-d9310a50fe40"
      },
      "outputs": [
        {
          "output_type": "stream",
          "name": "stdout",
          "text": [
            "+-------+-----+\n",
            "|movieId|count|\n",
            "+-------+-----+\n",
            "|    356|  329|\n",
            "|    318|  317|\n",
            "|    296|  307|\n",
            "|    593|  279|\n",
            "|   2571|  278|\n",
            "|    260|  251|\n",
            "|    480|  238|\n",
            "|    110|  237|\n",
            "|    589|  224|\n",
            "|    527|  220|\n",
            "|   2959|  218|\n",
            "|      1|  215|\n",
            "|   1196|  211|\n",
            "|     50|  204|\n",
            "|   2858|  204|\n",
            "|     47|  203|\n",
            "|    780|  202|\n",
            "|    150|  201|\n",
            "|   1198|  200|\n",
            "|   4993|  198|\n",
            "+-------+-----+\n",
            "only showing top 20 rows\n",
            "\n"
          ]
        }
      ],
      "source": [
        "# Group data by userId, count ratings\n",
        "movieId_ratings = ratings.groupBy(\"movieId\").count().orderBy('count', ascending=False)\n",
        "movieId_ratings.show()"
      ]
    },
    {
      "cell_type": "markdown",
      "metadata": {
        "id": "IVffHqJsFQHl"
      },
      "source": [
        "## Build Out An ALS Model"
      ]
    },
    {
      "cell_type": "code",
      "execution_count": null,
      "metadata": {
        "id": "hHa-tRiIFQHl"
      },
      "outputs": [],
      "source": [
        "# Import the required functions\n",
        "from pyspark.ml.evaluation import RegressionEvaluator\n",
        "from pyspark.ml.recommendation import ALS\n",
        "from pyspark.ml.tuning import ParamGridBuilder, CrossValidator"
      ]
    },
    {
      "cell_type": "code",
      "execution_count": null,
      "metadata": {
        "colab": {
          "base_uri": "https://localhost:8080/",
          "height": 276
        },
        "id": "bnFT-xVWFQHl",
        "outputId": "0ec24515-7e8c-4e2e-d4f2-385ad48ff0a8"
      },
      "outputs": [
        {
          "output_type": "execute_result",
          "data": {
            "text/plain": [
              "pyspark.ml.recommendation.ALS"
            ],
            "text/html": [
              "<div style=\"max-width:800px; border: 1px solid var(--colab-border-color);\"><style>\n",
              "      pre.function-repr-contents {\n",
              "        overflow-x: auto;\n",
              "        padding: 8px 12px;\n",
              "        max-height: 500px;\n",
              "      }\n",
              "\n",
              "      pre.function-repr-contents.function-repr-contents-collapsed {\n",
              "        cursor: pointer;\n",
              "        max-height: 100px;\n",
              "      }\n",
              "    </style>\n",
              "    <pre style=\"white-space: initial; background:\n",
              "         var(--colab-secondary-surface-color); padding: 8px 12px;\n",
              "         border-bottom: 1px solid var(--colab-border-color);\"><b>pyspark.ml.recommendation.ALS</b><br/>def __init__(*, rank: int=10, maxIter: int=10, regParam: float=0.1, numUserBlocks: int=10, numItemBlocks: int=10, implicitPrefs: bool=False, alpha: float=1.0, userCol: str=&#x27;user&#x27;, itemCol: str=&#x27;item&#x27;, seed: Optional[int]=None, ratingCol: str=&#x27;rating&#x27;, nonnegative: bool=False, checkpointInterval: int=10, intermediateStorageLevel: str=&#x27;MEMORY_AND_DISK&#x27;, finalStorageLevel: str=&#x27;MEMORY_AND_DISK&#x27;, coldStartStrategy: str=&#x27;nan&#x27;, blockSize: int=4096)</pre><pre class=\"function-repr-contents function-repr-contents-collapsed\" style=\"\"><a class=\"filepath\" style=\"display:none\" href=\"#\">/usr/local/lib/python3.10/dist-packages/pyspark/ml/recommendation.py</a>Alternating Least Squares (ALS) matrix factorization.\n",
              "\n",
              "ALS attempts to estimate the ratings matrix `R` as the product of\n",
              "two lower-rank matrices, `X` and `Y`, i.e. `X * Yt = R`. Typically\n",
              "these approximations are called &#x27;factor&#x27; matrices. The general\n",
              "approach is iterative. During each iteration, one of the factor\n",
              "matrices is held constant, while the other is solved for using least\n",
              "squares. The newly-solved factor matrix is then held constant while\n",
              "solving for the other factor matrix.\n",
              "\n",
              "This is a blocked implementation of the ALS factorization algorithm\n",
              "that groups the two sets of factors (referred to as &quot;users&quot; and\n",
              "&quot;products&quot;) into blocks and reduces communication by only sending\n",
              "one copy of each user vector to each product block on each\n",
              "iteration, and only for the product blocks that need that user&#x27;s\n",
              "feature vector. This is achieved by pre-computing some information\n",
              "about the ratings matrix to determine the &quot;out-links&quot; of each user\n",
              "(which blocks of products it will contribute to) and &quot;in-link&quot;\n",
              "information for each product (which of the feature vectors it\n",
              "receives from each user block it will depend on). This allows us to\n",
              "send only an array of feature vectors between each user block and\n",
              "product block, and have the product block find the users&#x27; ratings\n",
              "and update the products based on these messages.\n",
              "\n",
              "For implicit preference data, the algorithm used is based on\n",
              "`&quot;Collaborative Filtering for Implicit Feedback Datasets&quot;,\n",
              "&lt;https://doi.org/10.1109/ICDM.2008.22&gt;`_, adapted for the blocked\n",
              "approach used here.\n",
              "\n",
              "Essentially instead of finding the low-rank approximations to the\n",
              "rating matrix `R`, this finds the approximations for a preference\n",
              "matrix `P` where the elements of `P` are 1 if r &gt; 0 and 0 if r &lt;= 0.\n",
              "The ratings then act as &#x27;confidence&#x27; values related to strength of\n",
              "indicated user preferences rather than explicit ratings given to\n",
              "items.\n",
              "\n",
              ".. versionadded:: 1.4.0\n",
              "\n",
              "Notes\n",
              "-----\n",
              "The input rating dataframe to the ALS implementation should be deterministic.\n",
              "Nondeterministic data can cause failure during fitting ALS model.\n",
              "For example, an order-sensitive operation like sampling after a repartition makes\n",
              "dataframe output nondeterministic, like `df.repartition(2).sample(False, 0.5, 1618)`.\n",
              "Checkpointing sampled dataframe or adding a sort before sampling can help make the\n",
              "dataframe deterministic.\n",
              "\n",
              "Examples\n",
              "--------\n",
              "&gt;&gt;&gt; df = spark.createDataFrame(\n",
              "...     [(0, 0, 4.0), (0, 1, 2.0), (1, 1, 3.0), (1, 2, 4.0), (2, 1, 1.0), (2, 2, 5.0)],\n",
              "...     [&quot;user&quot;, &quot;item&quot;, &quot;rating&quot;])\n",
              "&gt;&gt;&gt; als = ALS(rank=10, seed=0)\n",
              "&gt;&gt;&gt; als.setMaxIter(5)\n",
              "ALS...\n",
              "&gt;&gt;&gt; als.getMaxIter()\n",
              "5\n",
              "&gt;&gt;&gt; als.setRegParam(0.1)\n",
              "ALS...\n",
              "&gt;&gt;&gt; als.getRegParam()\n",
              "0.1\n",
              "&gt;&gt;&gt; als.clear(als.regParam)\n",
              "&gt;&gt;&gt; model = als.fit(df)\n",
              "&gt;&gt;&gt; model.getBlockSize()\n",
              "4096\n",
              "&gt;&gt;&gt; model.getUserCol()\n",
              "&#x27;user&#x27;\n",
              "&gt;&gt;&gt; model.setUserCol(&quot;user&quot;)\n",
              "ALSModel...\n",
              "&gt;&gt;&gt; model.getItemCol()\n",
              "&#x27;item&#x27;\n",
              "&gt;&gt;&gt; model.setPredictionCol(&quot;newPrediction&quot;)\n",
              "ALS...\n",
              "&gt;&gt;&gt; model.rank\n",
              "10\n",
              "&gt;&gt;&gt; model.userFactors.orderBy(&quot;id&quot;).collect()\n",
              "[Row(id=0, features=[...]), Row(id=1, ...), Row(id=2, ...)]\n",
              "&gt;&gt;&gt; test = spark.createDataFrame([(0, 2), (1, 0), (2, 0)], [&quot;user&quot;, &quot;item&quot;])\n",
              "&gt;&gt;&gt; predictions = sorted(model.transform(test).collect(), key=lambda r: r[0])\n",
              "&gt;&gt;&gt; predictions[0]\n",
              "Row(user=0, item=2, newPrediction=0.6929...)\n",
              "&gt;&gt;&gt; predictions[1]\n",
              "Row(user=1, item=0, newPrediction=3.47356...)\n",
              "&gt;&gt;&gt; predictions[2]\n",
              "Row(user=2, item=0, newPrediction=-0.899198...)\n",
              "&gt;&gt;&gt; user_recs = model.recommendForAllUsers(3)\n",
              "&gt;&gt;&gt; user_recs.where(user_recs.user == 0)        .select(&quot;recommendations.item&quot;, &quot;recommendations.rating&quot;).collect()\n",
              "[Row(item=[0, 1, 2], rating=[3.910..., 1.997..., 0.692...])]\n",
              "&gt;&gt;&gt; item_recs = model.recommendForAllItems(3)\n",
              "&gt;&gt;&gt; item_recs.where(item_recs.item == 2)        .select(&quot;recommendations.user&quot;, &quot;recommendations.rating&quot;).collect()\n",
              "[Row(user=[2, 1, 0], rating=[4.892..., 3.991..., 0.692...])]\n",
              "&gt;&gt;&gt; user_subset = df.where(df.user == 2)\n",
              "&gt;&gt;&gt; user_subset_recs = model.recommendForUserSubset(user_subset, 3)\n",
              "&gt;&gt;&gt; user_subset_recs.select(&quot;recommendations.item&quot;, &quot;recommendations.rating&quot;).first()\n",
              "Row(item=[2, 1, 0], rating=[4.892..., 1.076..., -0.899...])\n",
              "&gt;&gt;&gt; item_subset = df.where(df.item == 0)\n",
              "&gt;&gt;&gt; item_subset_recs = model.recommendForItemSubset(item_subset, 3)\n",
              "&gt;&gt;&gt; item_subset_recs.select(&quot;recommendations.user&quot;, &quot;recommendations.rating&quot;).first()\n",
              "Row(user=[0, 1, 2], rating=[3.910..., 3.473..., -0.899...])\n",
              "&gt;&gt;&gt; als_path = temp_path + &quot;/als&quot;\n",
              "&gt;&gt;&gt; als.save(als_path)\n",
              "&gt;&gt;&gt; als2 = ALS.load(als_path)\n",
              "&gt;&gt;&gt; als.getMaxIter()\n",
              "5\n",
              "&gt;&gt;&gt; model_path = temp_path + &quot;/als_model&quot;\n",
              "&gt;&gt;&gt; model.save(model_path)\n",
              "&gt;&gt;&gt; model2 = ALSModel.load(model_path)\n",
              "&gt;&gt;&gt; model.rank == model2.rank\n",
              "True\n",
              "&gt;&gt;&gt; sorted(model.userFactors.collect()) == sorted(model2.userFactors.collect())\n",
              "True\n",
              "&gt;&gt;&gt; sorted(model.itemFactors.collect()) == sorted(model2.itemFactors.collect())\n",
              "True\n",
              "&gt;&gt;&gt; model.transform(test).take(1) == model2.transform(test).take(1)\n",
              "True</pre>\n",
              "      <script>\n",
              "      if (google.colab.kernel.accessAllowed && google.colab.files && google.colab.files.view) {\n",
              "        for (const element of document.querySelectorAll('.filepath')) {\n",
              "          element.style.display = 'block'\n",
              "          element.onclick = (event) => {\n",
              "            event.preventDefault();\n",
              "            event.stopPropagation();\n",
              "            google.colab.files.view(element.textContent, 245);\n",
              "          };\n",
              "        }\n",
              "      }\n",
              "      for (const element of document.querySelectorAll('.function-repr-contents')) {\n",
              "        element.onclick = (event) => {\n",
              "          event.preventDefault();\n",
              "          event.stopPropagation();\n",
              "          element.classList.toggle('function-repr-contents-collapsed');\n",
              "        };\n",
              "      }\n",
              "      </script>\n",
              "      </div>"
            ]
          },
          "metadata": {},
          "execution_count": 14
        }
      ],
      "source": [
        "# Create test and train set\n",
        "(train, test) = ratings.randomSplit([0.8, 0.2], seed = 1234)\n",
        "\n",
        "# Create ALS model\n",
        "als = ALS(userCol=\"userId\", itemCol=\"movieId\", ratingCol=\"rating\", nonnegative = True, implicitPrefs = False, coldStartStrategy=\"drop\")\n",
        "\n",
        "# Confirm that a model called \"als\" was created\n",
        "type(als)"
      ]
    },
    {
      "cell_type": "markdown",
      "metadata": {
        "id": "rXdZgeHmFQHm"
      },
      "source": [
        "## Tell Spark how to tune your ALS model"
      ]
    },
    {
      "cell_type": "code",
      "execution_count": null,
      "metadata": {
        "colab": {
          "base_uri": "https://localhost:8080/"
        },
        "id": "Y1lzG6VbFQHm",
        "outputId": "7405bd70-7e63-4250-e558-30981ef20c31"
      },
      "outputs": [
        {
          "output_type": "stream",
          "name": "stdout",
          "text": [
            "Num models to be tested:  16\n"
          ]
        }
      ],
      "source": [
        "# Import the requisite items\n",
        "from pyspark.ml.evaluation import RegressionEvaluator\n",
        "from pyspark.ml.tuning import ParamGridBuilder, CrossValidator\n",
        "\n",
        "# Add hyperparameters and their respective values to param_grid\n",
        "param_grid = ParamGridBuilder() \\\n",
        "            .addGrid(als.rank, [10, 50, 100, 150]) \\\n",
        "            .addGrid(als.regParam, [.01, .05, .1, .15]) \\\n",
        "            .build()\n",
        "            #             .addGrid(als.maxIter, [5, 50, 100, 200]) \\\n",
        "\n",
        "\n",
        "# Define evaluator as RMSE and print length of evaluator\n",
        "evaluator = RegressionEvaluator(metricName=\"rmse\", labelCol=\"rating\", predictionCol=\"prediction\")\n",
        "print (\"Num models to be tested: \", len(param_grid))"
      ]
    },
    {
      "cell_type": "markdown",
      "metadata": {
        "id": "FudfWsAeFQHn"
      },
      "source": [
        "## Build your cross validation pipeline"
      ]
    },
    {
      "cell_type": "code",
      "execution_count": null,
      "metadata": {
        "colab": {
          "base_uri": "https://localhost:8080/"
        },
        "id": "qX3KU0BrFQHn",
        "outputId": "38d72aff-407c-4519-bab7-73f61834ad69"
      },
      "outputs": [
        {
          "output_type": "stream",
          "name": "stdout",
          "text": [
            "CrossValidator_2bea0fe400bd\n"
          ]
        }
      ],
      "source": [
        "# Build cross validation using CrossValidator\n",
        "cv = CrossValidator(estimator=als, estimatorParamMaps=param_grid, evaluator=evaluator, numFolds=5)\n",
        "\n",
        "# Confirm cv was built\n",
        "print(cv)"
      ]
    },
    {
      "cell_type": "markdown",
      "metadata": {
        "id": "zfHnb7KbFQHo"
      },
      "source": [
        "## Best Model and Best Model Parameters"
      ]
    },
    {
      "cell_type": "code",
      "execution_count": null,
      "metadata": {
        "id": "srR2SdRSFQHo"
      },
      "outputs": [],
      "source": [
        "#Fit cross validator to the 'train' dataset\n",
        "model = cv.fit(train)\n",
        "\n",
        "#Extract best model from the cv model above\n",
        "best_model = model.bestModel"
      ]
    },
    {
      "cell_type": "code",
      "execution_count": null,
      "metadata": {
        "colab": {
          "base_uri": "https://localhost:8080/"
        },
        "id": "zYbTH6idFQHo",
        "outputId": "a9d38f51-fa94-48e4-f3e8-116250d72f27"
      },
      "outputs": [
        {
          "output_type": "stream",
          "name": "stdout",
          "text": [
            "<class 'pyspark.ml.recommendation.ALSModel'>\n",
            "**Best Model**\n",
            "  Rank: 50\n",
            "  MaxIter: 10\n",
            "  RegParam: 0.15\n"
          ]
        }
      ],
      "source": [
        "\n",
        "# Print best_model\n",
        "print(type(best_model))\n",
        "\n",
        "# Complete the code below to extract the ALS model parameters\n",
        "print(\"**Best Model**\")\n",
        "\n",
        "# # Print \"Rank\"\n",
        "print(\"  Rank:\", best_model._java_obj.parent().getRank())\n",
        "\n",
        "# Print \"MaxIter\"\n",
        "print(\"  MaxIter:\", best_model._java_obj.parent().getMaxIter())\n",
        "\n",
        "# Print \"RegParam\"\n",
        "print(\"  RegParam:\", best_model._java_obj.parent().getRegParam())"
      ]
    },
    {
      "cell_type": "code",
      "execution_count": null,
      "metadata": {
        "scrolled": true,
        "colab": {
          "base_uri": "https://localhost:8080/"
        },
        "id": "p7jLuw1NFQHp",
        "outputId": "f9d37ec1-4326-4301-81d6-b92a769e07bf"
      },
      "outputs": [
        {
          "output_type": "stream",
          "name": "stdout",
          "text": [
            "RMSE: 0.8690673442621993, MAE: 0.6773749374363924, R2: 0.29248080689446043\n"
          ]
        }
      ],
      "source": [
        "# View the predictions\n",
        "test_predictions = best_model.transform(test)\n",
        "rmse = evaluator.evaluate(test_predictions)\n",
        "evaluator_mae = RegressionEvaluator(metricName=\"mae\", labelCol=\"rating\", predictionCol=\"prediction\")\n",
        "evaluator_r2 = RegressionEvaluator(metricName=\"r2\", labelCol=\"rating\", predictionCol=\"prediction\")\n",
        "mae = evaluator_mae.evaluate(test_predictions)\n",
        "r2 = evaluator_r2.evaluate(test_predictions)\n",
        "\n",
        "print(f\"RMSE: {rmse}, MAE: {mae}, R2: {r2}\")"
      ]
    },
    {
      "cell_type": "code",
      "execution_count": null,
      "metadata": {
        "colab": {
          "base_uri": "https://localhost:8080/"
        },
        "id": "02oVjF_OFQHq",
        "outputId": "db4fafb7-6133-4de7-db2d-8b3b33132e7c"
      },
      "outputs": [
        {
          "output_type": "stream",
          "name": "stdout",
          "text": [
            "+------+-------+------+----------+\n",
            "|userId|movieId|rating|prediction|\n",
            "+------+-------+------+----------+\n",
            "|   580|   1580|   4.0| 3.4706793|\n",
            "|   580|  44022|   3.5| 3.3040323|\n",
            "|   597|    471|   2.0| 4.1068125|\n",
            "|   108|   1959|   5.0| 3.8204253|\n",
            "|   368|   2122|   2.0| 1.8162413|\n",
            "|   436|    471|   3.0| 3.6804643|\n",
            "|   587|   1580|   4.0| 3.8836937|\n",
            "|    27|   1580|   3.0| 3.3650382|\n",
            "|   606|   1580|   2.5| 3.1890929|\n",
            "|   606|  44022|   4.0| 2.8293602|\n",
            "|    91|   2122|   4.0| 2.3646014|\n",
            "|   157|   3175|   2.0| 3.4537184|\n",
            "|   232|   1580|   3.5| 3.3931732|\n",
            "|   232|  44022|   3.0| 3.1339257|\n",
            "|   246|   1645|   4.0| 3.7509031|\n",
            "|   599|   2366|   3.0| 2.8911195|\n",
            "|   111|   1088|   3.0| 3.1662276|\n",
            "|   111|   3175|   3.5| 3.0849307|\n",
            "|    47|   1580|   1.5| 2.6983342|\n",
            "|   140|   1580|   3.0| 3.3509948|\n",
            "+------+-------+------+----------+\n",
            "only showing top 20 rows\n",
            "\n"
          ]
        }
      ],
      "source": [
        "test_predictions.show()"
      ]
    },
    {
      "cell_type": "markdown",
      "metadata": {
        "id": "rcVsvtmYFQHr"
      },
      "source": [
        "## Make Recommendations"
      ]
    },
    {
      "cell_type": "code",
      "execution_count": null,
      "metadata": {
        "colab": {
          "base_uri": "https://localhost:8080/"
        },
        "id": "OUvYA2YtFQHr",
        "outputId": "6d306ac0-4250-4cf6-d14c-98e70fe43237"
      },
      "outputs": [
        {
          "output_type": "stream",
          "name": "stdout",
          "text": [
            "+------+--------------------+\n",
            "|userId|     recommendations|\n",
            "+------+--------------------+\n",
            "|     1|[{3379, 5.831154}...|\n",
            "|     2|[{131724, 4.78526...|\n",
            "|     3|[{70946, 4.947317...|\n",
            "|     4|[{25825, 4.956715...|\n",
            "|     5|[{5490, 4.6584444...|\n",
            "|     6|[{42730, 4.889429...|\n",
            "|     7|[{3379, 4.4965496...|\n",
            "|     8|[{3379, 4.6741285...|\n",
            "|     9|[{3379, 4.9176483...|\n",
            "|    10|[{71579, 4.507864...|\n",
            "|    11|[{3379, 5.073489}...|\n",
            "|    12|[{3925, 5.854617}...|\n",
            "|    13|[{60943, 5.058846...|\n",
            "|    14|[{391, 4.4939833}...|\n",
            "|    15|[{60943, 4.463873...|\n",
            "|    16|[{3379, 4.710959}...|\n",
            "|    17|[{3379, 5.256433}...|\n",
            "|    18|[{3379, 5.061402}...|\n",
            "|    19|[{3379, 4.1065288...|\n",
            "|    20|[{5490, 5.0414987...|\n",
            "+------+--------------------+\n",
            "\n"
          ]
        }
      ],
      "source": [
        "# Generate n Recommendations for all users\n",
        "nrecommendations = best_model.recommendForAllUsers(10)\n",
        "nrecommendations.limit(20).show()"
      ]
    },
    {
      "cell_type": "markdown",
      "source": [
        "Explanation:\n",
        "\n",
        "* **best_model.recommendForAllUsers(10):** This function generates top n (in this case, 10) recommendations for all users in the dataset using the trained ALS model.\n",
        "* **nrecommendations.limit(20).show():** This limits the display to the first 30 rows of the recommendation results for easier visualization.\n",
        "The output of this step includes a DataFrame where each row contains a user ID and a list of recommended movies with their predicted ratings."
      ],
      "metadata": {
        "id": "MUUt1qOxJN0J"
      }
    },
    {
      "cell_type": "code",
      "execution_count": null,
      "metadata": {
        "colab": {
          "base_uri": "https://localhost:8080/"
        },
        "id": "hTWjdArNFQHt",
        "outputId": "a653b1d8-2bd2-4be6-d08b-51fea405ff8f"
      },
      "outputs": [
        {
          "output_type": "stream",
          "name": "stdout",
          "text": [
            "+------+-------+---------+\n",
            "|userId|movieId|   rating|\n",
            "+------+-------+---------+\n",
            "|     1|   3379|5.7070365|\n",
            "|     1|  33649| 5.640919|\n",
            "|     1|   5490| 5.502497|\n",
            "|     1| 171495|5.4188676|\n",
            "|     1|   5416|5.4028587|\n",
            "|     1|   5328|5.4028587|\n",
            "|     1|   3951|5.4028587|\n",
            "|     1|  78836| 5.375047|\n",
            "|     1|   5915|5.3479133|\n",
            "|     1| 184245| 5.311106|\n",
            "+------+-------+---------+\n",
            "\n"
          ]
        }
      ],
      "source": [
        "nrecommendations = nrecommendations\\\n",
        "    .withColumn(\"rec_exp\", explode(\"recommendations\"))\\\n",
        "    .select('userId', col(\"rec_exp.movieId\"), col(\"rec_exp.rating\"))\n",
        "\n",
        "nrecommendations.limit(10).show()"
      ]
    },
    {
      "cell_type": "markdown",
      "metadata": {
        "id": "CXteP1onFQHt"
      },
      "source": [
        "## Do the recommendations make sense?\n",
        "Lets merge movie name and genres to the recommendation matrix for interpretability."
      ]
    },
    {
      "cell_type": "code",
      "execution_count": null,
      "metadata": {
        "colab": {
          "base_uri": "https://localhost:8080/"
        },
        "id": "YjsXtnqiFQHu",
        "outputId": "f071e057-ba86-4cc2-8437-4904135d604a"
      },
      "outputs": [
        {
          "output_type": "stream",
          "name": "stdout",
          "text": [
            "+-------+------+---------+--------------------+--------------------+\n",
            "|movieId|userId|   rating|               title|              genres|\n",
            "+-------+------+---------+--------------------+--------------------+\n",
            "|  67618|   200| 5.027164|Strictly Sexual (...|Comedy|Drama|Romance|\n",
            "|  33649|   200|5.0097237|  Saving Face (2004)|Comedy|Drama|Romance|\n",
            "|   3379|   200|4.9731035| On the Beach (1959)|               Drama|\n",
            "|  93988|   200|4.8592796|North & South (2004)|       Drama|Romance|\n",
            "| 171495|   200| 4.840536|              Cosmos|  (no genres listed)|\n",
            "|   5490|   200| 4.824309|  The Big Bus (1976)|       Action|Comedy|\n",
            "|   7121|   200|4.8242717|   Adam's Rib (1949)|      Comedy|Romance|\n",
            "| 184245|   200| 4.823738|De platte jungle ...|         Documentary|\n",
            "| 179135|   200| 4.823738|Blue Planet II (2...|         Documentary|\n",
            "| 138966|   200| 4.823738|Nasu: Summer in A...|           Animation|\n",
            "+-------+------+---------+--------------------+--------------------+\n",
            "\n"
          ]
        }
      ],
      "source": [
        "nrecommendations.join(movies, on='movieId').filter('userId = 200').show()"
      ]
    },
    {
      "cell_type": "code",
      "execution_count": null,
      "metadata": {
        "colab": {
          "base_uri": "https://localhost:8080/"
        },
        "id": "hWxwpcdqFQHv",
        "outputId": "3d4a4cc3-b15e-4ce9-a401-8467a0023e9a"
      },
      "outputs": [
        {
          "output_type": "stream",
          "name": "stdout",
          "text": [
            "+-------+------+------+--------------------+--------------------+\n",
            "|movieId|userId|rating|               title|              genres|\n",
            "+-------+------+------+--------------------+--------------------+\n",
            "|    441|   200|   5.0|Dazed and Confuse...|              Comedy|\n",
            "|   1500|   200|   5.0|Grosse Pointe Bla...|Comedy|Crime|Romance|\n",
            "|    597|   200|   5.0| Pretty Woman (1990)|      Comedy|Romance|\n",
            "|     39|   200|   5.0|     Clueless (1995)|      Comedy|Romance|\n",
            "|   1020|   200|   5.0|Cool Runnings (1993)|              Comedy|\n",
            "|   1196|   200|   5.0|Star Wars: Episod...|Action|Adventure|...|\n",
            "|   1380|   200|   5.0|       Grease (1978)|Comedy|Musical|Ro...|\n",
            "|   1197|   200|   5.0|Princess Bride, T...|Action|Adventure|...|\n",
            "|    318|   200|   5.0|Shawshank Redempt...|         Crime|Drama|\n",
            "|   1210|   200|   5.0|Star Wars: Episod...|Action|Adventure|...|\n",
            "+-------+------+------+--------------------+--------------------+\n",
            "\n"
          ]
        }
      ],
      "source": [
        "ratings.join(movies, on='movieId').filter('userId = 200').sort('rating', ascending=False).limit(10).show()"
      ]
    },
    {
      "cell_type": "code",
      "source": [
        "nrecommendations.join(movies, on='movieId').filter('userId = 5').show()"
      ],
      "metadata": {
        "colab": {
          "base_uri": "https://localhost:8080/"
        },
        "id": "TmA1AD8O5qHR",
        "outputId": "3d1b371f-e846-42e5-cb27-9bf701daeddd"
      },
      "execution_count": null,
      "outputs": [
        {
          "output_type": "stream",
          "name": "stdout",
          "text": [
            "+-------+------+---------+--------------------+--------------------+\n",
            "|movieId|userId|   rating|               title|              genres|\n",
            "+-------+------+---------+--------------------+--------------------+\n",
            "|   3379|     5|4.5838013| On the Beach (1959)|               Drama|\n",
            "|   5490|     5|4.5131636|  The Big Bus (1976)|       Action|Comedy|\n",
            "|   5915|     5| 4.387324|Victory (a.k.a. E...|    Action|Drama|War|\n",
            "|  33649|     5|4.3603888|  Saving Face (2004)|Comedy|Drama|Romance|\n",
            "|   6201|     5|4.3282003|    Lady Jane (1986)|       Drama|Romance|\n",
            "|  86781|     5|4.3003535|    Incendies (2010)|   Drama|Mystery|War|\n",
            "|   7096|     5| 4.299484|Rivers and Tides ...|         Documentary|\n",
            "|   6460|     5|4.2978234|Trial, The (Procè...|               Drama|\n",
            "|   3224|     5| 4.274757|Woman in the Dune...|               Drama|\n",
            "|  92475|     5|4.2649755|All Watched Over ...|         Documentary|\n",
            "+-------+------+---------+--------------------+--------------------+\n",
            "\n"
          ]
        }
      ]
    },
    {
      "cell_type": "code",
      "source": [
        "ratings.join(movies, on='movieId').filter('userId = 5').sort('rating', ascending=False).limit(20).show()"
      ],
      "metadata": {
        "colab": {
          "base_uri": "https://localhost:8080/"
        },
        "id": "tNxPTzoiHdqI",
        "outputId": "946d0dcd-f906-460d-9122-fecf7099364a"
      },
      "execution_count": null,
      "outputs": [
        {
          "output_type": "stream",
          "name": "stdout",
          "text": [
            "+-------+------+------+--------------------+--------------------+\n",
            "|movieId|userId|rating|               title|              genres|\n",
            "+-------+------+------+--------------------+--------------------+\n",
            "|    290|     5|   5.0|Once Were Warrior...|         Crime|Drama|\n",
            "|    296|     5|   5.0| Pulp Fiction (1994)|Comedy|Crime|Dram...|\n",
            "|     58|     5|   5.0|Postman, The (Pos...|Comedy|Drama|Romance|\n",
            "|    247|     5|   5.0|Heavenly Creature...|         Crime|Drama|\n",
            "|    590|     5|   5.0|Dances with Wolve...|Adventure|Drama|W...|\n",
            "|    594|     5|   5.0|Snow White and th...|Animation|Childre...|\n",
            "|    475|     5|   5.0|In the Name of th...|               Drama|\n",
            "|    527|     5|   5.0|Schindler's List ...|           Drama|War|\n",
            "|    595|     5|   5.0|Beauty and the Be...|Animation|Childre...|\n",
            "|    596|     5|   5.0|    Pinocchio (1940)|Animation|Childre...|\n",
            "|    457|     5|   4.0|Fugitive, The (1993)|            Thriller|\n",
            "|    474|     5|   4.0|In the Line of Fi...|     Action|Thriller|\n",
            "|      1|     5|   4.0|    Toy Story (1995)|Adventure|Animati...|\n",
            "|    110|     5|   4.0|   Braveheart (1995)|    Action|Drama|War|\n",
            "|     50|     5|   4.0|Usual Suspects, T...|Crime|Mystery|Thr...|\n",
            "|    232|     5|   4.0|Eat Drink Man Wom...|Comedy|Drama|Romance|\n",
            "|     34|     5|   4.0|         Babe (1995)|      Children|Drama|\n",
            "|    531|     5|   4.0|Secret Garden, Th...|      Children|Drama|\n",
            "|     36|     5|   4.0|Dead Man Walking ...|         Crime|Drama|\n",
            "|    588|     5|   4.0|      Aladdin (1992)|Adventure|Animati...|\n",
            "+-------+------+------+--------------------+--------------------+\n",
            "\n"
          ]
        }
      ]
    }
  ],
  "metadata": {
    "kernelspec": {
      "display_name": "Python 3",
      "language": "python",
      "name": "python3"
    },
    "language_info": {
      "codemirror_mode": {
        "name": "ipython",
        "version": 3
      },
      "file_extension": ".py",
      "mimetype": "text/x-python",
      "name": "python",
      "nbconvert_exporter": "python",
      "pygments_lexer": "ipython3",
      "version": "3.7.3"
    },
    "colab": {
      "provenance": []
    }
  },
  "nbformat": 4,
  "nbformat_minor": 0
}